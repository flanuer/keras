{
 "cells": [
  {
   "cell_type": "code",
   "execution_count": 1,
   "metadata": {},
   "outputs": [
    {
     "name": "stderr",
     "output_type": "stream",
     "text": [
      "Vendor:  Continuum Analytics, Inc.\n",
      "Package: mkl\n",
      "Message: trial mode expires in 30 days\n"
     ]
    }
   ],
   "source": [
    "import pandas as pd"
   ]
  },
  {
   "cell_type": "code",
   "execution_count": 2,
   "metadata": {},
   "outputs": [
    {
     "name": "stderr",
     "output_type": "stream",
     "text": [
      "/home/scott/anaconda3/lib/python3.5/site-packages/IPython/core/interactiveshell.py:2698: DtypeWarning: Columns (5,9,10,11,14,18,19,20,22,24,25,30,32,33,35,37,39,40,41,42,44,49,50,53,54,55,56,57,58,59,60,61) have mixed types. Specify dtype option on import or set low_memory=False.\n",
      "  interactivity=interactivity, compiler=compiler, result=result)\n"
     ]
    }
   ],
   "source": [
    "df=pd.read_csv('/home/scott/Desktop/betterlabels/result.zip')"
   ]
  },
  {
   "cell_type": "code",
   "execution_count": 3,
   "metadata": {},
   "outputs": [
    {
     "data": {
      "text/plain": [
       "(2084231, 63)"
      ]
     },
     "execution_count": 3,
     "metadata": {},
     "output_type": "execute_result"
    }
   ],
   "source": [
    "df.shape"
   ]
  },
  {
   "cell_type": "code",
   "execution_count": 4,
   "metadata": {
    "collapsed": true
   },
   "outputs": [],
   "source": [
    "dfsample=df.sample(100000)"
   ]
  },
  {
   "cell_type": "code",
   "execution_count": 5,
   "metadata": {},
   "outputs": [
    {
     "data": {
      "text/plain": [
       "(100000, 63)"
      ]
     },
     "execution_count": 5,
     "metadata": {},
     "output_type": "execute_result"
    }
   ],
   "source": [
    "dfsample.shape"
   ]
  },
  {
   "cell_type": "code",
   "execution_count": 7,
   "metadata": {},
   "outputs": [
    {
     "data": {
      "text/html": [
       "<div>\n",
       "<table border=\"1\" class=\"dataframe\">\n",
       "  <thead>\n",
       "    <tr style=\"text-align: right;\">\n",
       "      <th></th>\n",
       "      <th>OrganizationIdentifier</th>\n",
       "      <th>OrganizationFormalName</th>\n",
       "      <th>ActivityIdentifier</th>\n",
       "      <th>ActivityTypeCode</th>\n",
       "      <th>ActivityMediaName</th>\n",
       "      <th>ActivityMediaSubdivisionName</th>\n",
       "      <th>ActivityStartDate</th>\n",
       "      <th>ActivityStartTime/Time</th>\n",
       "      <th>ActivityStartTime/TimeZoneCode</th>\n",
       "      <th>ActivityEndDate</th>\n",
       "      <th>...</th>\n",
       "      <th>ResultAnalyticalMethod/MethodName</th>\n",
       "      <th>MethodDescriptionText</th>\n",
       "      <th>LaboratoryName</th>\n",
       "      <th>AnalysisStartDate</th>\n",
       "      <th>ResultLaboratoryCommentText</th>\n",
       "      <th>DetectionQuantitationLimitTypeName</th>\n",
       "      <th>DetectionQuantitationLimitMeasure/MeasureValue</th>\n",
       "      <th>DetectionQuantitationLimitMeasure/MeasureUnitCode</th>\n",
       "      <th>PreparationStartDate</th>\n",
       "      <th>ProviderName</th>\n",
       "    </tr>\n",
       "  </thead>\n",
       "  <tbody>\n",
       "    <tr>\n",
       "      <th>431458</th>\n",
       "      <td>21FLDOH_WQX</td>\n",
       "      <td>Division of Environmental Health, Bureau of Wa...</td>\n",
       "      <td>21FLDOH_WQX-243S061203</td>\n",
       "      <td>Sample-Routine</td>\n",
       "      <td>Water</td>\n",
       "      <td>NaN</td>\n",
       "      <td>2003-06-12</td>\n",
       "      <td>10:01:00</td>\n",
       "      <td>EST</td>\n",
       "      <td>NaN</td>\n",
       "      <td>...</td>\n",
       "      <td>Enterococcus</td>\n",
       "      <td>NaN</td>\n",
       "      <td>NaN</td>\n",
       "      <td>2003-06-12</td>\n",
       "      <td>NaN</td>\n",
       "      <td>Method Detection Level</td>\n",
       "      <td>1</td>\n",
       "      <td>cfu/100ml</td>\n",
       "      <td>NaN</td>\n",
       "      <td>STORET</td>\n",
       "    </tr>\n",
       "    <tr>\n",
       "      <th>1670118</th>\n",
       "      <td>11FLKNMS</td>\n",
       "      <td>Florida Keys National Marine Sanctuary (Florida)</td>\n",
       "      <td>11FLKNMS-200408121127-FKNMS001-2004-0</td>\n",
       "      <td>Field Msr/Obs</td>\n",
       "      <td>Water</td>\n",
       "      <td>NaN</td>\n",
       "      <td>2004-08-12</td>\n",
       "      <td>11:27:29</td>\n",
       "      <td>EDT</td>\n",
       "      <td>NaN</td>\n",
       "      <td>...</td>\n",
       "      <td>NaN</td>\n",
       "      <td>NaN</td>\n",
       "      <td>NaN</td>\n",
       "      <td>NaN</td>\n",
       "      <td>NaN</td>\n",
       "      <td>NaN</td>\n",
       "      <td>NaN</td>\n",
       "      <td>NaN</td>\n",
       "      <td>NaN</td>\n",
       "      <td>STORET</td>\n",
       "    </tr>\n",
       "    <tr>\n",
       "      <th>1695746</th>\n",
       "      <td>11FLKNMS</td>\n",
       "      <td>Florida Keys National Marine Sanctuary (Florida)</td>\n",
       "      <td>11FLKNMS-199312081450-FKNMS001-1993-0</td>\n",
       "      <td>Field Msr/Obs</td>\n",
       "      <td>Water</td>\n",
       "      <td>NaN</td>\n",
       "      <td>1993-12-08</td>\n",
       "      <td>14:50:00</td>\n",
       "      <td>EDT</td>\n",
       "      <td>NaN</td>\n",
       "      <td>...</td>\n",
       "      <td>NaN</td>\n",
       "      <td>NaN</td>\n",
       "      <td>NaN</td>\n",
       "      <td>NaN</td>\n",
       "      <td>NaN</td>\n",
       "      <td>NaN</td>\n",
       "      <td>NaN</td>\n",
       "      <td>NaN</td>\n",
       "      <td>NaN</td>\n",
       "      <td>STORET</td>\n",
       "    </tr>\n",
       "  </tbody>\n",
       "</table>\n",
       "<p>3 rows × 63 columns</p>\n",
       "</div>"
      ],
      "text/plain": [
       "        OrganizationIdentifier  \\\n",
       "431458             21FLDOH_WQX   \n",
       "1670118               11FLKNMS   \n",
       "1695746               11FLKNMS   \n",
       "\n",
       "                                    OrganizationFormalName  \\\n",
       "431458   Division of Environmental Health, Bureau of Wa...   \n",
       "1670118   Florida Keys National Marine Sanctuary (Florida)   \n",
       "1695746   Florida Keys National Marine Sanctuary (Florida)   \n",
       "\n",
       "                            ActivityIdentifier ActivityTypeCode  \\\n",
       "431458                  21FLDOH_WQX-243S061203   Sample-Routine   \n",
       "1670118  11FLKNMS-200408121127-FKNMS001-2004-0    Field Msr/Obs   \n",
       "1695746  11FLKNMS-199312081450-FKNMS001-1993-0    Field Msr/Obs   \n",
       "\n",
       "        ActivityMediaName ActivityMediaSubdivisionName ActivityStartDate  \\\n",
       "431458              Water                          NaN        2003-06-12   \n",
       "1670118             Water                          NaN        2004-08-12   \n",
       "1695746             Water                          NaN        1993-12-08   \n",
       "\n",
       "        ActivityStartTime/Time ActivityStartTime/TimeZoneCode ActivityEndDate  \\\n",
       "431458                10:01:00                            EST             NaN   \n",
       "1670118               11:27:29                            EDT             NaN   \n",
       "1695746               14:50:00                            EDT             NaN   \n",
       "\n",
       "            ...      ResultAnalyticalMethod/MethodName MethodDescriptionText  \\\n",
       "431458      ...                           Enterococcus                   NaN   \n",
       "1670118     ...                                    NaN                   NaN   \n",
       "1695746     ...                                    NaN                   NaN   \n",
       "\n",
       "         LaboratoryName AnalysisStartDate ResultLaboratoryCommentText  \\\n",
       "431458              NaN        2003-06-12                         NaN   \n",
       "1670118             NaN               NaN                         NaN   \n",
       "1695746             NaN               NaN                         NaN   \n",
       "\n",
       "         DetectionQuantitationLimitTypeName  \\\n",
       "431458               Method Detection Level   \n",
       "1670118                                 NaN   \n",
       "1695746                                 NaN   \n",
       "\n",
       "         DetectionQuantitationLimitMeasure/MeasureValue  \\\n",
       "431458                                                1   \n",
       "1670118                                             NaN   \n",
       "1695746                                             NaN   \n",
       "\n",
       "         DetectionQuantitationLimitMeasure/MeasureUnitCode  \\\n",
       "431458                                           cfu/100ml   \n",
       "1670118                                                NaN   \n",
       "1695746                                                NaN   \n",
       "\n",
       "        PreparationStartDate ProviderName  \n",
       "431458                   NaN       STORET  \n",
       "1670118                  NaN       STORET  \n",
       "1695746                  NaN       STORET  \n",
       "\n",
       "[3 rows x 63 columns]"
      ]
     },
     "execution_count": 7,
     "metadata": {},
     "output_type": "execute_result"
    }
   ],
   "source": [
    "dfsample.head(3)"
   ]
  },
  {
   "cell_type": "code",
   "execution_count": null,
   "metadata": {
    "collapsed": true
   },
   "outputs": [],
   "source": []
  }
 ],
 "metadata": {
  "kernelspec": {
   "display_name": "Python 3",
   "language": "python",
   "name": "python3"
  },
  "language_info": {
   "codemirror_mode": {
    "name": "ipython",
    "version": 3
   },
   "file_extension": ".py",
   "mimetype": "text/x-python",
   "name": "python",
   "nbconvert_exporter": "python",
   "pygments_lexer": "ipython3",
   "version": "3.5.4"
  }
 },
 "nbformat": 4,
 "nbformat_minor": 2
}
