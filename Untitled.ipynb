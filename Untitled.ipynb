y{
 "cells": [
  {
   "cell_type": "markdown",
   "metadata": {},
   "source": [
    "# Create a dataframe of HAB data"
   ]
  },
  {
   "cell_type": "code",
   "execution_count": 1,
   "metadata": {},
   "outputs": [
    {
     "name": "stderr",
     "output_type": "stream",
     "text": [
      "Vendor:  Continuum Analytics, Inc.\n",
      "Package: mkl\n",
      "Message: trial mode expires in 30 days\n"
     ]
    }
   ],
   "source": [
    "import pandas as pd"
   ]
  },
  {
   "cell_type": "code",
   "execution_count": 2,
   "metadata": {
    "collapsed": true
   },
   "outputs": [],
   "source": [
    "df = pd.read_csv('/home/scott/Desktop/betterlabels/datanow.csv')"
   ]
  },
  {
   "cell_type": "code",
   "execution_count": 4,
   "metadata": {},
   "outputs": [
    {
     "data": {
      "text/plain": [
       "(285391, 6)"
      ]
     },
     "execution_count": 4,
     "metadata": {},
     "output_type": "execute_result"
    }
   ],
   "source": [
    "df.shape"
   ]
  },
  {
   "cell_type": "code",
   "execution_count": 5,
   "metadata": {},
   "outputs": [
    {
     "data": {
      "text/html": [
       "<div>\n",
       "<table border=\"1\" class=\"dataframe\">\n",
       "  <thead>\n",
       "    <tr style=\"text-align: right;\">\n",
       "      <th></th>\n",
       "      <th>organization</th>\n",
       "      <th>station</th>\n",
       "      <th>description</th>\n",
       "      <th>latitude</th>\n",
       "      <th>longtitude</th>\n",
       "      <th>URL</th>\n",
       "    </tr>\n",
       "  </thead>\n",
       "  <tbody>\n",
       "    <tr>\n",
       "      <th>Louisiana Universities Marine  Consortium(LUMCON)</th>\n",
       "      <td>A1-7</td>\n",
       "      <td>Northwestern Gulf of Mexico</td>\n",
       "      <td>29.1338</td>\n",
       "      <td>-89.4758</td>\n",
       "      <td>NaN</td>\n",
       "      <td>NaN</td>\n",
       "    </tr>\n",
       "    <tr>\n",
       "      <th>Mississippi Department of Environmental Quality</th>\n",
       "      <td>B1-20</td>\n",
       "      <td>Northwestern Gulf of Mexico</td>\n",
       "      <td>29.0768</td>\n",
       "      <td>-90.2085</td>\n",
       "      <td>NaN</td>\n",
       "      <td>NaN</td>\n",
       "    </tr>\n",
       "    <tr>\n",
       "      <th>Mississippi Department of Environmental Quality</th>\n",
       "      <td>B2-21</td>\n",
       "      <td>Northwestern Gulf of Mexico</td>\n",
       "      <td>29.0715</td>\n",
       "      <td>-90.1908</td>\n",
       "      <td>NaN</td>\n",
       "      <td>NaN</td>\n",
       "    </tr>\n",
       "    <tr>\n",
       "      <th>Mississippi Department of Environmental Quality</th>\n",
       "      <td>B4-22</td>\n",
       "      <td>Northwestern Gulf of Mexico</td>\n",
       "      <td>29.0272</td>\n",
       "      <td>-90.1212</td>\n",
       "      <td>NaN</td>\n",
       "      <td>NaN</td>\n",
       "    </tr>\n",
       "    <tr>\n",
       "      <th>Mississippi Department of Environmental Quality</th>\n",
       "      <td>B6-23</td>\n",
       "      <td>Northwestern Gulf of Mexico</td>\n",
       "      <td>28.9925</td>\n",
       "      <td>-90.0768</td>\n",
       "      <td>NaN</td>\n",
       "      <td>NaN</td>\n",
       "    </tr>\n",
       "  </tbody>\n",
       "</table>\n",
       "</div>"
      ],
      "text/plain": [
       "                                                  organization  \\\n",
       "Louisiana Universities Marine  Consortium(LUMCON)         A1-7   \n",
       "Mississippi Department of Environmental Quality          B1-20   \n",
       "Mississippi Department of Environmental Quality          B2-21   \n",
       "Mississippi Department of Environmental Quality          B4-22   \n",
       "Mississippi Department of Environmental Quality          B6-23   \n",
       "\n",
       "                                                                       station  \\\n",
       "Louisiana Universities Marine  Consortium(LUMCON)  Northwestern Gulf of Mexico   \n",
       "Mississippi Department of Environmental Quality    Northwestern Gulf of Mexico   \n",
       "Mississippi Department of Environmental Quality    Northwestern Gulf of Mexico   \n",
       "Mississippi Department of Environmental Quality    Northwestern Gulf of Mexico   \n",
       "Mississippi Department of Environmental Quality    Northwestern Gulf of Mexico   \n",
       "\n",
       "                                                   description  latitude  \\\n",
       "Louisiana Universities Marine  Consortium(LUMCON)      29.1338  -89.4758   \n",
       "Mississippi Department of Environmental Quality        29.0768  -90.2085   \n",
       "Mississippi Department of Environmental Quality        29.0715  -90.1908   \n",
       "Mississippi Department of Environmental Quality        29.0272  -90.1212   \n",
       "Mississippi Department of Environmental Quality        28.9925  -90.0768   \n",
       "\n",
       "                                                   longtitude  URL  \n",
       "Louisiana Universities Marine  Consortium(LUMCON)         NaN  NaN  \n",
       "Mississippi Department of Environmental Quality           NaN  NaN  \n",
       "Mississippi Department of Environmental Quality           NaN  NaN  \n",
       "Mississippi Department of Environmental Quality           NaN  NaN  \n",
       "Mississippi Department of Environmental Quality           NaN  NaN  "
      ]
     },
     "execution_count": 5,
     "metadata": {},
     "output_type": "execute_result"
    }
   ],
   "source": [
    "df.head(5)"
   ]
  },
  {
   "cell_type": "code",
   "execution_count": null,
   "metadata": {
    "collapsed": true
   },
   "outputs": [],
   "source": []
  }
 ],
 "metadata": {
  "kernelspec": {
   "display_name": "Python 3",
   "language": "python",
   "name": "python3"
  },
  "language_info": {
   "codemirror_mode": {
    "name": "ipython",
    "version": 3
   },
   "file_extension": ".py",
   "mimetype": "text/x-python",
   "name": "python",
   "nbconvert_exporter": "python",
   "pygments_lexer": "ipython3",
   "version": "3.5.4"
  }
 },
 "nbformat": 4,
 "nbformat_minor": 2
}
